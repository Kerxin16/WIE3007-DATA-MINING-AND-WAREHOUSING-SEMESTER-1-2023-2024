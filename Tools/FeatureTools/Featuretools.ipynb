{
  "nbformat": 4,
  "nbformat_minor": 0,
  "metadata": {
    "colab": {
      "provenance": [],
      "toc_visible": true
    },
    "kernelspec": {
      "name": "python3",
      "display_name": "Python 3"
    },
    "language_info": {
      "name": "python"
    }
  },
  "cells": [
    {
      "cell_type": "markdown",
      "source": [
        "\n",
        "#**FEATURETOOLS**"
      ],
      "metadata": {
        "id": "ENbGdHUxaHUr"
      }
    },
    {
      "cell_type": "markdown",
      "source": [
        "**Import Libraries**"
      ],
      "metadata": {
        "id": "DJB019FPpmeB"
      }
    },
    {
      "cell_type": "code",
      "source": [
        "# Install featuretools\n",
        "!pip install featuretools\n",
        "\n",
        "import featuretools as ft\n",
        "import pandas as pd\n"
      ],
      "metadata": {
        "colab": {
          "base_uri": "https://localhost:8080/"
        },
        "id": "kp4EMhvYk1pC",
        "outputId": "0c2a225a-c428-4856-c4e6-dc76f34e44c6"
      },
      "execution_count": null,
      "outputs": [
        {
          "output_type": "stream",
          "name": "stdout",
          "text": [
            "Collecting featuretools\n",
            "  Downloading featuretools-1.28.0-py3-none-any.whl (619 kB)\n",
            "\u001b[?25l     \u001b[90m━━━━━━━━━━━━━━━━━━━━━━━━━━━━━━━━━━━━━━━━\u001b[0m \u001b[32m0.0/619.2 kB\u001b[0m \u001b[31m?\u001b[0m eta \u001b[36m-:--:--\u001b[0m\r\u001b[2K     \u001b[91m━━━━━━━\u001b[0m\u001b[91m╸\u001b[0m\u001b[90m━━━━━━━━━━━━━━━━━━━━━━━━━━━━━━━━\u001b[0m \u001b[32m122.9/619.2 kB\u001b[0m \u001b[31m3.5 MB/s\u001b[0m eta \u001b[36m0:00:01\u001b[0m\r\u001b[2K     \u001b[91m━━━━━━━━━━━━━━━━━━━━━━━━━━━━━━━━━━━\u001b[0m\u001b[90m╺\u001b[0m\u001b[90m━━━━\u001b[0m \u001b[32m542.7/619.2 kB\u001b[0m \u001b[31m7.9 MB/s\u001b[0m eta \u001b[36m0:00:01\u001b[0m\r\u001b[2K     \u001b[90m━━━━━━━━━━━━━━━━━━━━━━━━━━━━━━━━━━━━━━━━\u001b[0m \u001b[32m619.2/619.2 kB\u001b[0m \u001b[31m7.3 MB/s\u001b[0m eta \u001b[36m0:00:00\u001b[0m\n",
            "\u001b[?25hRequirement already satisfied: cloudpickle>=1.5.0 in /usr/local/lib/python3.10/dist-packages (from featuretools) (2.2.1)\n",
            "Collecting holidays<0.33,>=0.13 (from featuretools)\n",
            "  Downloading holidays-0.32-py3-none-any.whl (754 kB)\n",
            "\u001b[2K     \u001b[90m━━━━━━━━━━━━━━━━━━━━━━━━━━━━━━━━━━━━━━━━\u001b[0m \u001b[32m754.4/754.4 kB\u001b[0m \u001b[31m13.8 MB/s\u001b[0m eta \u001b[36m0:00:00\u001b[0m\n",
            "\u001b[?25hRequirement already satisfied: numpy>=1.21.0 in /usr/local/lib/python3.10/dist-packages (from featuretools) (1.23.5)\n",
            "Requirement already satisfied: packaging>=20.0 in /usr/local/lib/python3.10/dist-packages (from featuretools) (23.2)\n",
            "Requirement already satisfied: pandas>=1.5.0 in /usr/local/lib/python3.10/dist-packages (from featuretools) (1.5.3)\n",
            "Requirement already satisfied: psutil>=5.6.6 in /usr/local/lib/python3.10/dist-packages (from featuretools) (5.9.5)\n",
            "Requirement already satisfied: scipy>=1.10.0 in /usr/local/lib/python3.10/dist-packages (from featuretools) (1.11.4)\n",
            "Requirement already satisfied: tqdm>=4.32.0 in /usr/local/lib/python3.10/dist-packages (from featuretools) (4.66.1)\n",
            "Collecting woodwork>=0.23.0 (from featuretools)\n",
            "  Downloading woodwork-0.27.0-py3-none-any.whl (236 kB)\n",
            "\u001b[2K     \u001b[90m━━━━━━━━━━━━━━━━━━━━━━━━━━━━━━━━━━━━━━━━\u001b[0m \u001b[32m236.1/236.1 kB\u001b[0m \u001b[31m12.3 MB/s\u001b[0m eta \u001b[36m0:00:00\u001b[0m\n",
            "\u001b[?25hRequirement already satisfied: python-dateutil in /usr/local/lib/python3.10/dist-packages (from holidays<0.33,>=0.13->featuretools) (2.8.2)\n",
            "Requirement already satisfied: pytz>=2020.1 in /usr/local/lib/python3.10/dist-packages (from pandas>=1.5.0->featuretools) (2023.3.post1)\n",
            "Requirement already satisfied: scikit-learn>=0.22 in /usr/local/lib/python3.10/dist-packages (from woodwork>=0.23.0->featuretools) (1.2.2)\n",
            "Requirement already satisfied: importlib-resources>=5.10.0 in /usr/local/lib/python3.10/dist-packages (from woodwork>=0.23.0->featuretools) (6.1.1)\n",
            "Requirement already satisfied: six>=1.5 in /usr/local/lib/python3.10/dist-packages (from python-dateutil->holidays<0.33,>=0.13->featuretools) (1.16.0)\n",
            "Requirement already satisfied: joblib>=1.1.1 in /usr/local/lib/python3.10/dist-packages (from scikit-learn>=0.22->woodwork>=0.23.0->featuretools) (1.3.2)\n",
            "Requirement already satisfied: threadpoolctl>=2.0.0 in /usr/local/lib/python3.10/dist-packages (from scikit-learn>=0.22->woodwork>=0.23.0->featuretools) (3.2.0)\n",
            "Installing collected packages: holidays, woodwork, featuretools\n",
            "  Attempting uninstall: holidays\n",
            "    Found existing installation: holidays 0.38\n",
            "    Uninstalling holidays-0.38:\n",
            "      Successfully uninstalled holidays-0.38\n",
            "Successfully installed featuretools-1.28.0 holidays-0.32 woodwork-0.27.0\n"
          ]
        }
      ]
    },
    {
      "cell_type": "markdown",
      "source": [
        "**Import CSV File**"
      ],
      "metadata": {
        "id": "TjsDN7WPpzRT"
      }
    },
    {
      "cell_type": "code",
      "source": [
        "# Mount drive file and import\n",
        "from google.colab import drive\n",
        "drive.mount('gdrive')\n",
        "\n",
        "#path to csv file\n",
        "csv_file_path = '/content/gdrive/MyDrive/3007 Group assignment/sampled_data.csv'\n",
        "\n",
        "# Use pandas to read the CSV file\n",
        "data = pd.read_csv(csv_file_path)"
      ],
      "metadata": {
        "colab": {
          "base_uri": "https://localhost:8080/"
        },
        "id": "M6DXln2bliOj",
        "outputId": "9be08db5-6bfb-4fb6-8b54-98093e7805c4"
      },
      "execution_count": null,
      "outputs": [
        {
          "output_type": "stream",
          "name": "stdout",
          "text": [
            "Mounted at gdrive\n"
          ]
        }
      ]
    },
    {
      "cell_type": "markdown",
      "source": [
        "**Define Entities**"
      ],
      "metadata": {
        "id": "OpV8f_v9qRIv"
      }
    },
    {
      "cell_type": "code",
      "source": [
        "# Define entities\n",
        "student_entity = (data[['MaritalStatus', 'Nationality', 'Gender', 'ScholarshipHolder', 'International',\n",
        "                        'DaytimeEveningAttendance','Debtor','PreviousQualification',\n",
        "                        'PreviousQualificationGrade',  'MotherQualification','FatherQualification',\n",
        "                        'MotherOccupation', 'FatherOccupation', 'Displaced',\n",
        "                        'Student_ID']], 'Student_ID')\n",
        "\n",
        "\n",
        "enrollment_entity = (data[['AdmissionGrade', 'EducationalSpecialNeeds',\n",
        "                            'TuitionFeesUpToDate','AgeAtEnrollment','Student_ID', 'Enrollment_ID']], 'Enrollment_ID')\n",
        "\n",
        "\n",
        "performance_entity = (data[['CurricularUnits1stSemCredited',\n",
        "       'CurricularUnits1stSemEnrolled', 'CurricularUnits1stSemEvaluation',\n",
        "       'CurricularUnits1stSemApproved', 'CurricularUnits1stSemGrade',\n",
        "       'CurricularUnits1stSemNoEvaluations', 'CurricularUnits2ndSemCredited',\n",
        "       'CurricularUnits2ndSemEnrolled', 'CurricularUnits2ndSemEvaluations',\n",
        "       'CurricularUnits2ndSemApproved', 'CurricularUnits2ndSemGrade',\n",
        "       'CurricularUnits2ndSemWithoutEvaluations','UnemploymentRate',\n",
        "                          'InflationRate', 'GDP', 'Target', 'Performance_ID','Student_ID']], 'Performance_ID')\n",
        "\n",
        "\n",
        "course_entity = (data[[ 'Course','Course_ID','Student_ID']], 'Course_ID')\n",
        "\n",
        "application_entity = (data[[ 'ApplicationMode', 'ApplicationOrder', 'Application_ID','Student_ID']], 'Application_ID')"
      ],
      "metadata": {
        "id": "3cHz7_X1oyRm"
      },
      "execution_count": null,
      "outputs": []
    },
    {
      "cell_type": "markdown",
      "source": [
        "**Create Entity Set And Add Dataframe**"
      ],
      "metadata": {
        "id": "uHikwtsBqgmQ"
      }
    },
    {
      "cell_type": "code",
      "source": [
        "# Create an EntitySet\n",
        "es = ft.EntitySet(id=\"student_data\")\n",
        "\n",
        "\n",
        "# Add dataframes to the EntitySet\n",
        "es = es.add_dataframe(dataframe_name=\"student\", dataframe=student_entity[0], index='Student_ID')\n",
        "\n",
        "es = es.add_dataframe(dataframe_name=\"enrollment\", dataframe=enrollment_entity[0], index='Enrollment_ID')\n",
        "\n",
        "es = es.add_dataframe(dataframe_name=\"student_performance\", dataframe=performance_entity[0], index='Performance_ID')\n",
        "\n",
        "es = es.add_dataframe(dataframe_name=\"course\", dataframe=course_entity[0], index='Course_ID')\n",
        "\n",
        "es = es.add_dataframe(dataframe_name=\"application\", dataframe=application_entity[0], index='Application_ID')"
      ],
      "metadata": {
        "id": "QEAA2zp-p-uw"
      },
      "execution_count": null,
      "outputs": []
    },
    {
      "cell_type": "markdown",
      "source": [
        "**Establish Relationship**"
      ],
      "metadata": {
        "id": "Ga3cyoEhqt2r"
      }
    },
    {
      "cell_type": "code",
      "source": [
        "#Establish relationship\n",
        "relationship1 = es.add_relationship(\n",
        "    parent_dataframe_name='student',\n",
        "    parent_column_name='Student_ID',\n",
        "    child_dataframe_name='student_performance',\n",
        "    child_column_name='Student_ID'\n",
        ")\n",
        "\n",
        "relationship2 = es.add_relationship(\n",
        "    parent_dataframe_name='student',\n",
        "    parent_column_name='Student_ID',\n",
        "    child_dataframe_name='enrollment',\n",
        "    child_column_name='Student_ID'\n",
        ")\n",
        "\n",
        "relationship3 = es.add_relationship(\n",
        "    parent_dataframe_name='student',\n",
        "    parent_column_name='Student_ID',\n",
        "    child_dataframe_name='course',\n",
        "    child_column_name='Student_ID'\n",
        ")\n",
        "\n",
        "relationship4 = es.add_relationship(\n",
        "    parent_dataframe_name='student',\n",
        "    parent_column_name='Student_ID',\n",
        "    child_dataframe_name='application',\n",
        "    child_column_name='Student_ID'\n",
        ")\n",
        "\n",
        "\n",
        "# Print the EntitySet\n",
        "print(es)"
      ],
      "metadata": {
        "colab": {
          "base_uri": "https://localhost:8080/"
        },
        "id": "5fWSrKoJrIFi",
        "outputId": "c7637624-b712-4b44-de54-b6f1b7d4934a"
      },
      "execution_count": null,
      "outputs": [
        {
          "output_type": "stream",
          "name": "stdout",
          "text": [
            "Entityset: student_data\n",
            "  DataFrames:\n",
            "    student [Rows: 1327, Columns: 15]\n",
            "    enrollment [Rows: 1327, Columns: 6]\n",
            "    student_performance [Rows: 1327, Columns: 18]\n",
            "    course [Rows: 1327, Columns: 3]\n",
            "    application [Rows: 1327, Columns: 4]\n",
            "  Relationships:\n",
            "    student_performance.Student_ID -> student.Student_ID\n",
            "    enrollment.Student_ID -> student.Student_ID\n",
            "    course.Student_ID -> student.Student_ID\n",
            "    application.Student_ID -> student.Student_ID\n"
          ]
        }
      ]
    },
    {
      "cell_type": "markdown",
      "source": [
        "**Deep Feature Synthesis**"
      ],
      "metadata": {
        "id": "bM726YeFr1j6"
      }
    },
    {
      "cell_type": "code",
      "source": [
        "# SET PANDAS DISPLAY OPTIONS TO SHOW ALL COLUMNS AND ROWS\n",
        "pd.set_option('display.max_columns', None)\n",
        "pd.set_option('display.max_rows', None)\n",
        "\n",
        "\n",
        "# DEEP FEATURE SYNTHESIS\n",
        "feature_matrix, feature_defs = ft.dfs(\n",
        "    entityset=es,\n",
        "    target_dataframe_name=\"student_performance\",\n",
        "    verbose=True,\n",
        "    max_depth=2\n",
        ")\n",
        "\n",
        "feature_matrix, feature_defs = ft.dfs(\n",
        "    entityset=es,\n",
        "    target_dataframe_name=\"enrollment\",\n",
        "    verbose=True,\n",
        "    max_depth=2\n",
        ")\n",
        "\n"
      ],
      "metadata": {
        "colab": {
          "base_uri": "https://localhost:8080/"
        },
        "id": "gpOp3TzYpa2l",
        "outputId": "58998e7c-6b65-4b5d-f2f7-530ff7b1d1df"
      },
      "execution_count": null,
      "outputs": [
        {
          "output_type": "stream",
          "name": "stdout",
          "text": [
            "Built 169 features\n",
            "Elapsed: 00:06 | Progress: 100%|██████████\n",
            "Built 157 features\n",
            "Elapsed: 00:05 | Progress: 100%|██████████\n"
          ]
        }
      ]
    },
    {
      "cell_type": "code",
      "source": [
        "# PRINT THE GENERATED FEATURE MATRIX\n",
        "print(feature_matrix)\n",
        "print(feature_defs)"
      ],
      "metadata": {
        "colab": {
          "base_uri": "https://localhost:8080/"
        },
        "id": "T00dIJVpsQ-v",
        "outputId": "91ad56bc-3c8e-44b9-ed92-558f3b400b67"
      },
      "execution_count": null,
      "outputs": [
        {
          "output_type": "stream",
          "name": "stderr",
          "text": [
            "IOPub data rate exceeded.\n",
            "The notebook server will temporarily stop sending output\n",
            "to the client in order to avoid crashing it.\n",
            "To change this limit, set the config variable\n",
            "`--NotebookApp.iopub_data_rate_limit`.\n",
            "\n",
            "Current values:\n",
            "NotebookApp.iopub_data_rate_limit=1000000.0 (bytes/sec)\n",
            "NotebookApp.rate_limit_window=3.0 (secs)\n",
            "\n"
          ]
        }
      ]
    }
  ]
}